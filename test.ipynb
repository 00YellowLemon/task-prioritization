{
 "cells": [
  {
   "cell_type": "code",
   "execution_count": 8,
   "metadata": {},
   "outputs": [
    {
     "ename": "HTTPStatusError",
     "evalue": "Client error '422 Unprocessable Entity' for url 'https://task-prioritization-6b7t.onrender.com/task/invoke'\nFor more information check: https://developer.mozilla.org/en-US/docs/Web/HTTP/Status/422 for {\"detail\":[{\"loc\":[\"task\"],\"msg\":\"field required\",\"type\":\"value_error.missing\"}]}",
     "output_type": "error",
     "traceback": [
      "\u001b[31m---------------------------------------------------------------------------\u001b[39m",
      "\u001b[31mHTTPStatusError\u001b[39m                           Traceback (most recent call last)",
      "\u001b[36mFile \u001b[39m\u001b[32m~/task-prioritization/.venv/lib/python3.11/site-packages/langserve/client.py:96\u001b[39m, in \u001b[36m_raise_for_status\u001b[39m\u001b[34m(response)\u001b[39m\n\u001b[32m     95\u001b[39m \u001b[38;5;28;01mtry\u001b[39;00m:\n\u001b[32m---> \u001b[39m\u001b[32m96\u001b[39m     \u001b[43mresponse\u001b[49m\u001b[43m.\u001b[49m\u001b[43mraise_for_status\u001b[49m\u001b[43m(\u001b[49m\u001b[43m)\u001b[49m\n\u001b[32m     97\u001b[39m \u001b[38;5;28;01mexcept\u001b[39;00m httpx.HTTPStatusError \u001b[38;5;28;01mas\u001b[39;00m e:\n",
      "\u001b[36mFile \u001b[39m\u001b[32m~/task-prioritization/.venv/lib/python3.11/site-packages/httpx/_models.py:758\u001b[39m, in \u001b[36mResponse.raise_for_status\u001b[39m\u001b[34m(self)\u001b[39m\n\u001b[32m    757\u001b[39m message = message.format(\u001b[38;5;28mself\u001b[39m, error_type=error_type)\n\u001b[32m--> \u001b[39m\u001b[32m758\u001b[39m \u001b[38;5;28;01mraise\u001b[39;00m HTTPStatusError(message, request=request, response=\u001b[38;5;28mself\u001b[39m)\n",
      "\u001b[31mHTTPStatusError\u001b[39m: Client error '422 Unprocessable Entity' for url 'https://task-prioritization-6b7t.onrender.com/task/invoke'\nFor more information check: https://developer.mozilla.org/en-US/docs/Web/HTTP/Status/422",
      "\nDuring handling of the above exception, another exception occurred:\n",
      "\u001b[31mHTTPStatusError\u001b[39m                           Traceback (most recent call last)",
      "\u001b[36mCell\u001b[39m\u001b[36m \u001b[39m\u001b[32mIn[8]\u001b[39m\u001b[32m, line 5\u001b[39m\n\u001b[32m      3\u001b[39m \u001b[38;5;66;03m# Task Prioritization Endpoint\u001b[39;00m\n\u001b[32m      4\u001b[39m task_chain = RemoteRunnable(\u001b[33m\"\u001b[39m\u001b[33mhttps://task-prioritization-6b7t.onrender.com/task\u001b[39m\u001b[33m\"\u001b[39m)\n\u001b[32m----> \u001b[39m\u001b[32m5\u001b[39m task_result = \u001b[43mtask_chain\u001b[49m\u001b[43m.\u001b[49m\u001b[43minvoke\u001b[49m\u001b[43m(\u001b[49m\u001b[43m{\u001b[49m\n\u001b[32m      6\u001b[39m \u001b[43m    \u001b[49m\u001b[33;43m\"\u001b[39;49m\u001b[33;43mtasks\u001b[39;49m\u001b[33;43m\"\u001b[39;49m\u001b[43m:\u001b[49m\u001b[43m \u001b[49m\u001b[43m[\u001b[49m\n\u001b[32m      7\u001b[39m \u001b[43m        \u001b[49m\u001b[33;43m\"\u001b[39;49m\u001b[33;43mFinish project report\u001b[39;49m\u001b[33;43m\"\u001b[39;49m\u001b[43m,\u001b[49m\n\u001b[32m      8\u001b[39m \u001b[43m        \u001b[49m\u001b[33;43m\"\u001b[39;49m\u001b[33;43mPrepare presentation\u001b[39;49m\u001b[33;43m\"\u001b[39;49m\u001b[43m,\u001b[49m\n\u001b[32m      9\u001b[39m \u001b[43m        \u001b[49m\u001b[33;43m\"\u001b[39;49m\u001b[33;43mAnswer emails\u001b[39;49m\u001b[33;43m\"\u001b[39;49m\u001b[43m,\u001b[49m\n\u001b[32m     10\u001b[39m \u001b[43m        \u001b[49m\u001b[33;43m\"\u001b[39;49m\u001b[33;43mSchedule team meeting\u001b[39;49m\u001b[33;43m\"\u001b[39;49m\n\u001b[32m     11\u001b[39m \u001b[43m    \u001b[49m\u001b[43m]\u001b[49m\n\u001b[32m     12\u001b[39m \u001b[43m}\u001b[49m\u001b[43m)\u001b[49m\n\u001b[32m     13\u001b[39m \u001b[38;5;28mprint\u001b[39m(\u001b[33m\"\u001b[39m\u001b[33mTask Prioritization Result:\u001b[39m\u001b[33m\"\u001b[39m, task_result)\n\u001b[32m     15\u001b[39m \u001b[38;5;66;03m# Reflection Insights Endpoint\u001b[39;00m\n",
      "\u001b[36mFile \u001b[39m\u001b[32m~/task-prioritization/.venv/lib/python3.11/site-packages/langserve/client.py:294\u001b[39m, in \u001b[36mRemoteRunnable.invoke\u001b[39m\u001b[34m(self, input, config, **kwargs)\u001b[39m\n\u001b[32m    292\u001b[39m \u001b[38;5;28;01mif\u001b[39;00m kwargs:\n\u001b[32m    293\u001b[39m     \u001b[38;5;28;01mraise\u001b[39;00m \u001b[38;5;167;01mNotImplementedError\u001b[39;00m(\u001b[33m\"\u001b[39m\u001b[33mkwargs not implemented yet.\u001b[39m\u001b[33m\"\u001b[39m)\n\u001b[32m--> \u001b[39m\u001b[32m294\u001b[39m \u001b[38;5;28;01mreturn\u001b[39;00m \u001b[38;5;28;43mself\u001b[39;49m\u001b[43m.\u001b[49m\u001b[43m_call_with_config\u001b[49m\u001b[43m(\u001b[49m\u001b[38;5;28;43mself\u001b[39;49m\u001b[43m.\u001b[49m\u001b[43m_invoke\u001b[49m\u001b[43m,\u001b[49m\u001b[43m \u001b[49m\u001b[38;5;28;43minput\u001b[39;49m\u001b[43m,\u001b[49m\u001b[43m \u001b[49m\u001b[43mconfig\u001b[49m\u001b[43m=\u001b[49m\u001b[43mconfig\u001b[49m\u001b[43m)\u001b[49m\n",
      "\u001b[36mFile \u001b[39m\u001b[32m~/task-prioritization/.venv/lib/python3.11/site-packages/langchain_core/runnables/base.py:1786\u001b[39m, in \u001b[36mRunnable._call_with_config\u001b[39m\u001b[34m(self, func, input, config, run_type, serialized, **kwargs)\u001b[39m\n\u001b[32m   1782\u001b[39m     context = copy_context()\n\u001b[32m   1783\u001b[39m     context.run(_set_config_context, child_config)\n\u001b[32m   1784\u001b[39m     output = cast(\n\u001b[32m   1785\u001b[39m         Output,\n\u001b[32m-> \u001b[39m\u001b[32m1786\u001b[39m         \u001b[43mcontext\u001b[49m\u001b[43m.\u001b[49m\u001b[43mrun\u001b[49m\u001b[43m(\u001b[49m\n\u001b[32m   1787\u001b[39m \u001b[43m            \u001b[49m\u001b[43mcall_func_with_variable_args\u001b[49m\u001b[43m,\u001b[49m\u001b[43m  \u001b[49m\u001b[38;5;66;43;03m# type: ignore[arg-type]\u001b[39;49;00m\n\u001b[32m   1788\u001b[39m \u001b[43m            \u001b[49m\u001b[43mfunc\u001b[49m\u001b[43m,\u001b[49m\u001b[43m  \u001b[49m\u001b[38;5;66;43;03m# type: ignore[arg-type]\u001b[39;49;00m\n\u001b[32m   1789\u001b[39m \u001b[43m            \u001b[49m\u001b[38;5;28;43minput\u001b[39;49m\u001b[43m,\u001b[49m\u001b[43m  \u001b[49m\u001b[38;5;66;43;03m# type: ignore[arg-type]\u001b[39;49;00m\n\u001b[32m   1790\u001b[39m \u001b[43m            \u001b[49m\u001b[43mconfig\u001b[49m\u001b[43m,\u001b[49m\n\u001b[32m   1791\u001b[39m \u001b[43m            \u001b[49m\u001b[43mrun_manager\u001b[49m\u001b[43m,\u001b[49m\n\u001b[32m   1792\u001b[39m \u001b[43m            \u001b[49m\u001b[43m*\u001b[49m\u001b[43m*\u001b[49m\u001b[43mkwargs\u001b[49m\u001b[43m,\u001b[49m\n\u001b[32m   1793\u001b[39m \u001b[43m        \u001b[49m\u001b[43m)\u001b[49m,\n\u001b[32m   1794\u001b[39m     )\n\u001b[32m   1795\u001b[39m \u001b[38;5;28;01mexcept\u001b[39;00m \u001b[38;5;167;01mBaseException\u001b[39;00m \u001b[38;5;28;01mas\u001b[39;00m e:\n\u001b[32m   1796\u001b[39m     run_manager.on_chain_error(e)\n",
      "\u001b[36mFile \u001b[39m\u001b[32m~/task-prioritization/.venv/lib/python3.11/site-packages/langchain_core/runnables/config.py:398\u001b[39m, in \u001b[36mcall_func_with_variable_args\u001b[39m\u001b[34m(func, input, config, run_manager, **kwargs)\u001b[39m\n\u001b[32m    396\u001b[39m \u001b[38;5;28;01mif\u001b[39;00m run_manager \u001b[38;5;129;01mis\u001b[39;00m \u001b[38;5;129;01mnot\u001b[39;00m \u001b[38;5;28;01mNone\u001b[39;00m \u001b[38;5;129;01mand\u001b[39;00m accepts_run_manager(func):\n\u001b[32m    397\u001b[39m     kwargs[\u001b[33m\"\u001b[39m\u001b[33mrun_manager\u001b[39m\u001b[33m\"\u001b[39m] = run_manager\n\u001b[32m--> \u001b[39m\u001b[32m398\u001b[39m \u001b[38;5;28;01mreturn\u001b[39;00m \u001b[43mfunc\u001b[49m\u001b[43m(\u001b[49m\u001b[38;5;28;43minput\u001b[39;49m\u001b[43m,\u001b[49m\u001b[43m \u001b[49m\u001b[43m*\u001b[49m\u001b[43m*\u001b[49m\u001b[43mkwargs\u001b[49m\u001b[43m)\u001b[49m\n",
      "\u001b[36mFile \u001b[39m\u001b[32m~/task-prioritization/.venv/lib/python3.11/site-packages/langserve/client.py:281\u001b[39m, in \u001b[36mRemoteRunnable._invoke\u001b[39m\u001b[34m(self, input, run_manager, config, **kwargs)\u001b[39m\n\u001b[32m    272\u001b[39m \u001b[38;5;250m\u001b[39m\u001b[33;03m\"\"\"Invoke the runnable with the given input and config.\"\"\"\u001b[39;00m\n\u001b[32m    273\u001b[39m response = \u001b[38;5;28mself\u001b[39m.sync_client.post(\n\u001b[32m    274\u001b[39m     \u001b[33m\"\u001b[39m\u001b[33m/invoke\u001b[39m\u001b[33m\"\u001b[39m,\n\u001b[32m    275\u001b[39m     json={\n\u001b[32m   (...)\u001b[39m\u001b[32m    279\u001b[39m     },\n\u001b[32m    280\u001b[39m )\n\u001b[32m--> \u001b[39m\u001b[32m281\u001b[39m output, callback_events = \u001b[43m_decode_response\u001b[49m\u001b[43m(\u001b[49m\n\u001b[32m    282\u001b[39m \u001b[43m    \u001b[49m\u001b[38;5;28;43mself\u001b[39;49m\u001b[43m.\u001b[49m\u001b[43m_lc_serializer\u001b[49m\u001b[43m,\u001b[49m\u001b[43m \u001b[49m\u001b[43mresponse\u001b[49m\u001b[43m,\u001b[49m\u001b[43m \u001b[49m\u001b[43mis_batch\u001b[49m\u001b[43m=\u001b[49m\u001b[38;5;28;43;01mFalse\u001b[39;49;00m\n\u001b[32m    283\u001b[39m \u001b[43m\u001b[49m\u001b[43m)\u001b[49m\n\u001b[32m    285\u001b[39m \u001b[38;5;28;01mif\u001b[39;00m \u001b[38;5;28mself\u001b[39m._use_server_callback_events \u001b[38;5;129;01mand\u001b[39;00m callback_events:\n\u001b[32m    286\u001b[39m     handle_callbacks(run_manager, callback_events)\n",
      "\u001b[36mFile \u001b[39m\u001b[32m~/task-prioritization/.venv/lib/python3.11/site-packages/langserve/client.py:169\u001b[39m, in \u001b[36m_decode_response\u001b[39m\u001b[34m(serializer, response, is_batch)\u001b[39m\n\u001b[32m    162\u001b[39m \u001b[38;5;28;01mdef\u001b[39;00m\u001b[38;5;250m \u001b[39m\u001b[34m_decode_response\u001b[39m(\n\u001b[32m    163\u001b[39m     serializer: Serializer,\n\u001b[32m    164\u001b[39m     response: httpx.Response,\n\u001b[32m    165\u001b[39m     *,\n\u001b[32m    166\u001b[39m     is_batch: \u001b[38;5;28mbool\u001b[39m = \u001b[38;5;28;01mFalse\u001b[39;00m,\n\u001b[32m    167\u001b[39m ) -> Tuple[Any, Union[List[CallbackEventDict], List[List[CallbackEventDict]]]]:\n\u001b[32m    168\u001b[39m \u001b[38;5;250m    \u001b[39m\u001b[33;03m\"\"\"Decode the response.\"\"\"\u001b[39;00m\n\u001b[32m--> \u001b[39m\u001b[32m169\u001b[39m     \u001b[43m_raise_for_status\u001b[49m\u001b[43m(\u001b[49m\u001b[43mresponse\u001b[49m\u001b[43m)\u001b[49m\n\u001b[32m    170\u001b[39m     obj = response.json()\n\u001b[32m    171\u001b[39m     \u001b[38;5;28;01mif\u001b[39;00m \u001b[38;5;129;01mnot\u001b[39;00m \u001b[38;5;28misinstance\u001b[39m(obj, \u001b[38;5;28mdict\u001b[39m):\n",
      "\u001b[36mFile \u001b[39m\u001b[32m~/task-prioritization/.venv/lib/python3.11/site-packages/langserve/client.py:104\u001b[39m, in \u001b[36m_raise_for_status\u001b[39m\u001b[34m(response)\u001b[39m\n\u001b[32m    101\u001b[39m \u001b[38;5;28;01mif\u001b[39;00m e.response.text:\n\u001b[32m    102\u001b[39m     message += \u001b[33mf\u001b[39m\u001b[33m\"\u001b[39m\u001b[33m for \u001b[39m\u001b[38;5;132;01m{\u001b[39;00me.response.text\u001b[38;5;132;01m}\u001b[39;00m\u001b[33m\"\u001b[39m\n\u001b[32m--> \u001b[39m\u001b[32m104\u001b[39m \u001b[38;5;28;01mraise\u001b[39;00m httpx.HTTPStatusError(\n\u001b[32m    105\u001b[39m     message=message,\n\u001b[32m    106\u001b[39m     request=_sanitize_request(e.request),\n\u001b[32m    107\u001b[39m     response=e.response,\n\u001b[32m    108\u001b[39m )\n",
      "\u001b[31mHTTPStatusError\u001b[39m: Client error '422 Unprocessable Entity' for url 'https://task-prioritization-6b7t.onrender.com/task/invoke'\nFor more information check: https://developer.mozilla.org/en-US/docs/Web/HTTP/Status/422 for {\"detail\":[{\"loc\":[\"task\"],\"msg\":\"field required\",\"type\":\"value_error.missing\"}]}"
     ]
    }
   ],
   "source": [
    "from langserve import RemoteRunnable\n",
    "\n",
    "# Task Prioritization Endpoint\n",
    "task_chain = RemoteRunnable(\"https://task-prioritization-6b7t.onrender.com/task\")\n",
    "task_result = task_chain.invoke({\n",
    "    \"tasks\": [\n",
    "        \"Finish project report\",\n",
    "        \"Prepare presentation\",\n",
    "        \"Answer emails\",\n",
    "        \"Schedule team meeting\"\n",
    "    ]\n",
    "})\n",
    "print(\"Task Prioritization Result:\", task_result)\n",
    "\n",
    "# Reflection Insights Endpoint\n",
    "reflection_insights = RemoteRunnable(\"https://task-prioritization-6b7t.onrender.com/reflection_insights\")\n",
    "insights_result = reflection_insights.invoke({\n",
    "    \"tasks\": [\n",
    "        \"Finish project report\",\n",
    "        \"Prepare presentation\",\n",
    "        \"Answer emails\",\n",
    "        \"Schedule team meeting\"\n",
    "    ]\n",
    "})\n",
    "print(\"Reflection Insights Result:\", insights_result)\n",
    "\n",
    "# Reflection Summary Endpoint\n",
    "reflection_summary = RemoteRunnable(\"https://task-prioritization-6b7t.onrender.com/reflection_summary\")\n",
    "summary_result = reflection_summary.invoke({\n",
    "    \"input\": [\n",
    "        \"Finish project report\",\n",
    "        \"Prepare presentation\", \n",
    "        \"Answer emails\",\n",
    "        \"Schedule team meeting\"\n",
    "    ]\n",
    "})\n",
    "print(\"Reflection Summary Result:\", summary_result)\n"
   ]
  },
  {
   "cell_type": "code",
   "execution_count": 11,
   "metadata": {},
   "outputs": [
    {
     "name": "stdout",
     "output_type": "stream",
     "text": [
      "Error in testing insights: Server error '500 Internal Server Error' for url 'https://task-prioritization-6b7t.onrender.com/reflection_insights/invoke'\n",
      "For more information check: https://developer.mozilla.org/en-US/docs/Web/HTTP/Status/500 for Internal Server Error\n"
     ]
    }
   ],
   "source": [
    "from langserve import RemoteRunnable\n",
    "from typing import List\n",
    "\n",
    "# Task Prioritization Endpoint\n",
    "task_chain = RemoteRunnable(\"https://task-prioritization-6b7t.onrender.com/task\")\n",
    "\n",
    "# Reflection Insights Endpoint\n",
    "reflection_insights = RemoteRunnable(\"https://task-prioritization-6b7t.onrender.com/reflection_insights\")\n",
    "\n",
    "def test_insights(reflections: List[str]):\n",
    "    try:\n",
    "        # Test Reflection Insights\n",
    "        insights_result = reflection_insights.invoke(reflections)\n",
    "        print(\"Reflection Insights Result:\")\n",
    "        \n",
    "        # Pretty print the insights\n",
    "        for insight in insights_result['insights']:\n",
    "            print(\"\\n--- Insight ---\")\n",
    "            print(f\"Thinking: {insight['thinking']}\")\n",
    "            print(f\"Blindspot: {insight['blindspot']}\")\n",
    "            print(f\"Growth: {insight['growth']}\")\n",
    "            print(f\"Action: {insight['action']}\")\n",
    "        \n",
    "        return insights_result\n",
    "    except Exception as e:\n",
    "        print(f\"Error in testing insights: {e}\")\n",
    "        return None\n",
    "\n",
    "# Example usage\n",
    "sample_reflections = [\n",
    "    \"I've been struggling to balance work and personal life\",\n",
    "    \"I want to improve my productivity and time management skills\",\n",
    "    \"I feel overwhelmed by multiple projects and deadlines\"\n",
    "]\n",
    "\n",
    "result = test_insights(sample_reflections)\n"
   ]
  },
  {
   "cell_type": "code",
   "execution_count": 12,
   "metadata": {},
   "outputs": [],
   "source": [
    "result"
   ]
  },
  {
   "cell_type": "code",
   "execution_count": null,
   "metadata": {},
   "outputs": [],
   "source": []
  }
 ],
 "metadata": {
  "kernelspec": {
   "display_name": ".venv",
   "language": "python",
   "name": "python3"
  },
  "language_info": {
   "codemirror_mode": {
    "name": "ipython",
    "version": 3
   },
   "file_extension": ".py",
   "mimetype": "text/x-python",
   "name": "python",
   "nbconvert_exporter": "python",
   "pygments_lexer": "ipython3",
   "version": "3.11.10"
  }
 },
 "nbformat": 4,
 "nbformat_minor": 2
}
