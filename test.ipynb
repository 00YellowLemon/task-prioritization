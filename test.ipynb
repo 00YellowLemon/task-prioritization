{
 "cells": [
  {
   "cell_type": "code",
   "execution_count": null,
   "metadata": {},
   "outputs": [],
   "source": [
    "from typing import List, Dict, Optional\n",
    "\n",
    "def format_reflections(reflections: List[Dict[str, str]]) -> str:\n",
    "    \"\"\"\n",
    "    Formats a list of reflections into a readable string\n",
    "    \n",
    "    Args:\n",
    "        reflections: List of dictionaries with 'question' and 'answer' keys\n",
    "        \n",
    "    Returns:\n",
    "        Formatted string with each reflection numbered\n",
    "        \n",
    "    Raises:\n",
    "        ValueError: If reflections list is empty\n",
    "    \"\"\"\n",
    "    if not reflections:\n",
    "        raise ValueError(\"Reflections list cannot be empty\")\n",
    "    \n",
    "    formatted = []\n",
    "    for i, reflection in enumerate(reflections, 1):\n",
    "        question = reflection.get('question', 'No question provided')\n",
    "        answer = reflection.get('answer', 'No answer provided')\n",
    "        formatted.append(\n",
    "            f\"Reflection {i}:\\n\"\n",
    "            f\"Question: {question}\\n\"\n",
    "            f\"Answer: {answer}\"\n",
    "        )\n",
    "    \n",
    "    return \"\\n\\n\".join(formatted)\n",
    "\n"
   ]
  }
 ],
 "metadata": {
  "kernelspec": {
   "display_name": ".venv",
   "language": "python",
   "name": "python3"
  },
  "language_info": {
   "codemirror_mode": {
    "name": "ipython",
    "version": 3
   },
   "file_extension": ".py",
   "mimetype": "text/x-python",
   "name": "python",
   "nbconvert_exporter": "python",
   "pygments_lexer": "ipython3",
   "version": "3.11.10"
  }
 },
 "nbformat": 4,
 "nbformat_minor": 2
}
