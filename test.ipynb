{
 "cells": [
  {
   "cell_type": "code",
   "execution_count": 4,
   "metadata": {},
   "outputs": [],
   "source": [
    "from typing import List, Dict, Optional\n",
    "\n",
    "def format_reflections(reflections: List[Dict[str, str]]) -> str:\n",
    "    \"\"\"\n",
    "    Formats a list of reflections into a readable string\n",
    "    \n",
    "    Args:\n",
    "        reflections: List of dictionaries with 'question' and 'answer' keys\n",
    "        \n",
    "    Returns:\n",
    "        Formatted string with each reflection numbered\n",
    "        \n",
    "    Raises:\n",
    "        ValueError: If reflections list is empty\n",
    "    \"\"\"\n",
    "    if not reflections:\n",
    "        raise ValueError(\"Reflections list cannot be empty\")\n",
    "    \n",
    "    formatted = []\n",
    "    for i, reflection in enumerate(reflections, 1):\n",
    "        question = reflection.get('question', 'No question provided')\n",
    "        answer = reflection.get('answer', 'No answer provided')\n",
    "        formatted.append(\n",
    "            f\"Reflection {i}:\\n\"\n",
    "            f\"Question: {question}\\n\"\n",
    "            f\"Answer: {answer}\"\n",
    "        )\n",
    "    \n",
    "    return \"\\n\\n\".join(formatted)\n",
    "\n"
   ]
  },
  {
   "cell_type": "code",
   "execution_count": 5,
   "metadata": {},
   "outputs": [],
   "source": [
    "example_reflections = [\n",
    "        {\"question\": \"How do I handle stress?\", \"answer\": \"I tend to avoid stressful situations\"},\n",
    "        {\"question\": \"My communication style?\", \"answer\": \"I listen more than I speak\"}\n",
    "    ]"
   ]
  },
  {
   "cell_type": "code",
   "execution_count": 6,
   "metadata": {},
   "outputs": [],
   "source": [
    "my_promt = format_reflections(example_reflections)"
   ]
  },
  {
   "cell_type": "code",
   "execution_count": 7,
   "metadata": {},
   "outputs": [
    {
     "data": {
      "text/plain": [
       "'Reflection 1:\\nQuestion: How do I handle stress?\\nAnswer: I tend to avoid stressful situations\\n\\nReflection 2:\\nQuestion: My communication style?\\nAnswer: I listen more than I speak'"
      ]
     },
     "execution_count": 7,
     "metadata": {},
     "output_type": "execute_result"
    }
   ],
   "source": [
    "my_promt"
   ]
  },
  {
   "cell_type": "code",
   "execution_count": 11,
   "metadata": {},
   "outputs": [],
   "source": [
    "import os\n",
    "from dotenv import load_dotenv\n",
    "from typing import List, Dict\n",
    "\n",
    "from langchain_google_genai import ChatGoogleGenerativeAI\n",
    "from langchain.prompts import PromptTemplate\n",
    "from langchain_core.pydantic_v1 import BaseModel, Field\n",
    "from langchain.output_parsers import PydanticOutputParser\n",
    "from langchain_core.runnables import RunnablePassthrough\n",
    "\n",
    "# Load environment variables\n",
    "load_dotenv()\n",
    "\n",
    "# Pydantic Models for Structured Output\n",
    "class Insight(BaseModel):\n",
    "    thinking: str = Field(..., description=\"Analysis of your thought patterns\")\n",
    "    blindspot: str = Field(..., description=\"What you might be overlooking\")\n",
    "    growth: str = Field(..., description=\"Your growth opportunity\")\n",
    "    action: str = Field(..., description=\"Your recommended next step\")\n",
    "\n",
    "class Insights(BaseModel):\n",
    "    insights: List[Insight]\n",
    "\n",
    "# Initialize the model\n",
    "model = ChatGoogleGenerativeAI(\n",
    "    model=\"gemini-1.5-flash\", \n",
    "    temperature=0, \n",
    "    google_api_key=os.getenv(\"GOOGLE_API_KEY\")\n",
    ")\n",
    "\n",
    "# Create Output Parser\n",
    "parser = PydanticOutputParser(pydantic_object=Insights)\n",
    "\n",
    "# Define Prompt Template\n",
    "insight_template = \"\"\"\n",
    "You're my personal reflection coach. I'm sharing these thoughts with you:\n",
    "\n",
    "{reflections}\n",
    "\n",
    "For each entry I've shared, please help me understand:\n",
    "1. What my thinking patterns reveal about me\n",
    "2. What perspectives I might be missing\n",
    "3. Where I have the most potential to grow\n",
    "4. One concrete action I could take\n",
    "\n",
    "Format your response as clean JSON with these exact fields for each insight:\n",
    "- \"thinking\"\n",
    "- \"blindspot\" \n",
    "- \"growth\"\n",
    "- \"action\"\n",
    "\n",
    "Structure the output like this:\n",
    "{{\n",
    "  \"insights\": [\n",
    "    {{\n",
    "      \"thinking\": \"...\",\n",
    "      \"blindspot\": \"...\", \n",
    "      \"growth\": \"...\",\n",
    "      \"action\": \"...\"\n",
    "    }}\n",
    "  ]\n",
    "}}\n",
    "\"\"\"\n",
    "\n",
    "# Create Prompt Template\n",
    "insight_prompt = PromptTemplate(\n",
    "    template=insight_template,\n",
    "    input_variables=[\"reflections\"]\n",
    ")\n",
    "\n",
    "# Create the final chain\n",
    "reflection_insights_chain = (\n",
    "    {\"reflections\": RunnablePassthrough()} \n",
    "    | insight_prompt \n",
    "    | model \n",
    "    | parser\n",
    ")"
   ]
  },
  {
   "cell_type": "code",
   "execution_count": 12,
   "metadata": {},
   "outputs": [
    {
     "data": {
      "text/plain": [
       "Insights(insights=[Insight(thinking='Your response to stress reveals a pattern of avoidance. This suggests a preference for maintaining comfort and minimizing discomfort, potentially prioritizing short-term relief over long-term growth and resilience.', blindspot='By avoiding stressful situations, you might be missing opportunities for personal growth, skill development, and building resilience.  You may also be inadvertently allowing stressors to accumulate, leading to larger problems down the line.  You might not be developing effective coping mechanisms.', growth='Your potential for growth lies in developing healthier coping mechanisms for stress. This includes learning to identify and manage stressors proactively, rather than avoiding them.  Building resilience will allow you to navigate challenges more effectively.', action='Identify one upcoming stressful situation (e.g., a difficult conversation, a deadline) and create a plan to address it head-on.  This plan should include specific steps and strategies for managing your stress response during the situation.'), Insight(thinking=\"Your communication style indicates a preference for listening and absorbing information before speaking. This suggests you are thoughtful, considerate, and value others' perspectives.\", blindspot='While listening is crucial, prioritizing listening over speaking can lead to others misunderstanding your needs and perspectives.  You might be missing opportunities to express your own ideas, assert your boundaries, or contribute actively to conversations.  Others may perceive you as passive or unsure of yourself.', growth='Your potential for growth lies in finding a balance between listening and speaking.  This involves developing assertiveness skills and learning to express your thoughts and feelings clearly and confidently.', action=\"In your next conversation, consciously make an effort to share your perspective at least once, even if it's a brief comment or question.  Practice articulating your needs and opinions in a clear and respectful manner.\")])"
      ]
     },
     "execution_count": 12,
     "metadata": {},
     "output_type": "execute_result"
    }
   ],
   "source": [
    "reflection_insights_chain.invoke(my_promt)"
   ]
  },
  {
   "cell_type": "code",
   "execution_count": null,
   "metadata": {},
   "outputs": [],
   "source": []
  }
 ],
 "metadata": {
  "kernelspec": {
   "display_name": ".venv",
   "language": "python",
   "name": "python3"
  },
  "language_info": {
   "codemirror_mode": {
    "name": "ipython",
    "version": 3
   },
   "file_extension": ".py",
   "mimetype": "text/x-python",
   "name": "python",
   "nbconvert_exporter": "python",
   "pygments_lexer": "ipython3",
   "version": "3.11.10"
  }
 },
 "nbformat": 4,
 "nbformat_minor": 2
}
