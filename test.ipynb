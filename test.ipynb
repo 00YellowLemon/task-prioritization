{
 "cells": [
  {
   "cell_type": "code",
   "execution_count": 16,
   "metadata": {},
   "outputs": [],
   "source": [
    "from langchain_google_genai import ChatGoogleGenerativeAI\n",
    "from langchain.prompts import ChatPromptTemplate\n",
    "from langchain_core.runnables import Runnable\n",
    "from pydantic import BaseModel, Field\n",
    "import os\n",
    "from typing import Optional\n",
    "from dotenv import load_dotenv\n",
    "\n",
    "# Load environment variables\n",
    "load_dotenv()\n",
    "\n",
    "# Validate API key\n",
    "if not os.getenv(\"GOOGLE_API_KEY\"):\n",
    "    raise ValueError(\"GOOGLE_API_KEY environment variable not set.\")\n",
    "\n",
    "# Initialize the Gemini model\n",
    "model = ChatGoogleGenerativeAI(model=\"gemini-1.5-pro\", temperature=0)\n",
    "\n",
    "# Structured Output Model\n",
    "class TaskPriority(BaseModel):\n",
    "    \"\"\"\n",
    "    Represents the priority assessment of a task\n",
    "    \"\"\"\n",
    "    is_important: bool = Field(\n",
    "        description=\"Indicates whether the task is important\",\n",
    "        default=False\n",
    "    )\n",
    "    is_urgent: bool = Field(\n",
    "        description=\"Indicates whether the task is urgent\",\n",
    "        default=False\n",
    "    )\n",
    "\n",
    "\n",
    "prompt_template = ChatPromptTemplate.from_template(\"\"\"\n",
    "    You are a task prioritization assistant. Analyze the given task carefully.\n",
    "\n",
    "    Task: {task}\n",
    "\n",
    "    Provide a precise assessment:\n",
    "    - Determine if the task is IMPORTANT (True/False)\n",
    "    - Determine if the task is URGENT (True/False)\n",
    "\n",
    "    Strictly respond in JSON format:\n",
    "    ```json\n",
    "    {{\n",
    "    \"is_important\": true/false,\n",
    "    \"is_urgent\": true/false\n",
    "    }}\n",
    "\"\"\")\n",
    "\n",
    "# Create the chain using the model's structured output method\n",
    "chain = prompt_template | model.with_structured_output(TaskPriority)"
   ]
  },
  {
   "cell_type": "code",
   "execution_count": 17,
   "metadata": {},
   "outputs": [
    {
     "name": "stdout",
     "output_type": "stream",
     "text": [
      "is_important=True is_urgent=True\n"
     ]
    }
   ],
   "source": [
    "task_description = \"Prepare a prntation for the client meeting tomorrow morning.\"\n",
    "\n",
    "result = chain.invoke({\"task\": task_description})\n",
    "\n",
    "print(result)\n"
   ]
  },
  {
   "cell_type": "code",
   "execution_count": null,
   "metadata": {},
   "outputs": [],
   "source": []
  },
  {
   "cell_type": "code",
   "execution_count": null,
   "metadata": {},
   "outputs": [],
   "source": []
  }
 ],
 "metadata": {
  "kernelspec": {
   "display_name": ".venv",
   "language": "python",
   "name": "python3"
  },
  "language_info": {
   "codemirror_mode": {
    "name": "ipython",
    "version": 3
   },
   "file_extension": ".py",
   "mimetype": "text/x-python",
   "name": "python",
   "nbconvert_exporter": "python",
   "pygments_lexer": "ipython3",
   "version": "3.11.10"
  }
 },
 "nbformat": 4,
 "nbformat_minor": 2
}
